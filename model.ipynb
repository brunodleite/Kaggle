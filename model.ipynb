{
 "cells": [
  {
   "cell_type": "code",
   "execution_count": 1,
   "id": "searching-geography",
   "metadata": {
    "_cell_guid": "b1076dfc-b9ad-4769-8c92-a6c4dae69d19",
    "_uuid": "8f2839f25d086af736a60e9eeb907d3b93b6e0e5",
    "execution": {
     "iopub.execute_input": "2021-04-15T18:09:17.264705Z",
     "iopub.status.busy": "2021-04-15T18:09:17.264069Z",
     "iopub.status.idle": "2021-04-15T18:09:17.274725Z",
     "shell.execute_reply": "2021-04-15T18:09:17.274069Z"
    },
    "papermill": {
     "duration": 0.034745,
     "end_time": "2021-04-15T18:09:17.274940",
     "exception": false,
     "start_time": "2021-04-15T18:09:17.240195",
     "status": "completed"
    },
    "tags": []
   },
   "outputs": [
    {
     "name": "stdout",
     "output_type": "stream",
     "text": [
      "/kaggle/input/tabular-playground-series-apr-2021/sample_submission.csv\n",
      "/kaggle/input/tabular-playground-series-apr-2021/train.csv\n",
      "/kaggle/input/tabular-playground-series-apr-2021/test.csv\n"
     ]
    }
   ],
   "source": [
    "import numpy as np \n",
    "import pandas as pd \n",
    "\n",
    "import os\n",
    "for dirname, _, filenames in os.walk('/kaggle/input'):\n",
    "    for filename in filenames:\n",
    "        print(os.path.join(dirname, filename))\n"
   ]
  },
  {
   "cell_type": "code",
   "execution_count": 2,
   "id": "active-indie",
   "metadata": {
    "execution": {
     "iopub.execute_input": "2021-04-15T18:09:17.314527Z",
     "iopub.status.busy": "2021-04-15T18:09:17.313416Z",
     "iopub.status.idle": "2021-04-15T18:09:17.977694Z",
     "shell.execute_reply": "2021-04-15T18:09:17.977117Z"
    },
    "papermill": {
     "duration": 0.685537,
     "end_time": "2021-04-15T18:09:17.977842",
     "exception": false,
     "start_time": "2021-04-15T18:09:17.292305",
     "status": "completed"
    },
    "tags": []
   },
   "outputs": [],
   "source": [
    "train = pd.read_csv(\"../input/tabular-playground-series-apr-2021/train.csv\")\n",
    "test = pd.read_csv(\"../input/tabular-playground-series-apr-2021/test.csv\")"
   ]
  },
  {
   "cell_type": "code",
   "execution_count": 3,
   "id": "automated-supervisor",
   "metadata": {
    "execution": {
     "iopub.execute_input": "2021-04-15T18:09:18.025041Z",
     "iopub.status.busy": "2021-04-15T18:09:18.024367Z",
     "iopub.status.idle": "2021-04-15T18:09:18.048740Z",
     "shell.execute_reply": "2021-04-15T18:09:18.049327Z"
    },
    "papermill": {
     "duration": 0.055215,
     "end_time": "2021-04-15T18:09:18.049500",
     "exception": false,
     "start_time": "2021-04-15T18:09:17.994285",
     "status": "completed"
    },
    "tags": []
   },
   "outputs": [
    {
     "data": {
      "text/html": [
       "<div>\n",
       "<style scoped>\n",
       "    .dataframe tbody tr th:only-of-type {\n",
       "        vertical-align: middle;\n",
       "    }\n",
       "\n",
       "    .dataframe tbody tr th {\n",
       "        vertical-align: top;\n",
       "    }\n",
       "\n",
       "    .dataframe thead th {\n",
       "        text-align: right;\n",
       "    }\n",
       "</style>\n",
       "<table border=\"1\" class=\"dataframe\">\n",
       "  <thead>\n",
       "    <tr style=\"text-align: right;\">\n",
       "      <th></th>\n",
       "      <th>PassengerId</th>\n",
       "      <th>Survived</th>\n",
       "      <th>Pclass</th>\n",
       "      <th>Name</th>\n",
       "      <th>Sex</th>\n",
       "      <th>Age</th>\n",
       "      <th>SibSp</th>\n",
       "      <th>Parch</th>\n",
       "      <th>Ticket</th>\n",
       "      <th>Fare</th>\n",
       "      <th>Cabin</th>\n",
       "      <th>Embarked</th>\n",
       "    </tr>\n",
       "  </thead>\n",
       "  <tbody>\n",
       "    <tr>\n",
       "      <th>0</th>\n",
       "      <td>0</td>\n",
       "      <td>1</td>\n",
       "      <td>1</td>\n",
       "      <td>Oconnor, Frankie</td>\n",
       "      <td>male</td>\n",
       "      <td>NaN</td>\n",
       "      <td>2</td>\n",
       "      <td>0</td>\n",
       "      <td>209245</td>\n",
       "      <td>27.14</td>\n",
       "      <td>C12239</td>\n",
       "      <td>S</td>\n",
       "    </tr>\n",
       "    <tr>\n",
       "      <th>1</th>\n",
       "      <td>1</td>\n",
       "      <td>0</td>\n",
       "      <td>3</td>\n",
       "      <td>Bryan, Drew</td>\n",
       "      <td>male</td>\n",
       "      <td>NaN</td>\n",
       "      <td>0</td>\n",
       "      <td>0</td>\n",
       "      <td>27323</td>\n",
       "      <td>13.35</td>\n",
       "      <td>NaN</td>\n",
       "      <td>S</td>\n",
       "    </tr>\n",
       "    <tr>\n",
       "      <th>2</th>\n",
       "      <td>2</td>\n",
       "      <td>0</td>\n",
       "      <td>3</td>\n",
       "      <td>Owens, Kenneth</td>\n",
       "      <td>male</td>\n",
       "      <td>0.33</td>\n",
       "      <td>1</td>\n",
       "      <td>2</td>\n",
       "      <td>CA 457703</td>\n",
       "      <td>71.29</td>\n",
       "      <td>NaN</td>\n",
       "      <td>S</td>\n",
       "    </tr>\n",
       "    <tr>\n",
       "      <th>3</th>\n",
       "      <td>3</td>\n",
       "      <td>0</td>\n",
       "      <td>3</td>\n",
       "      <td>Kramer, James</td>\n",
       "      <td>male</td>\n",
       "      <td>19.00</td>\n",
       "      <td>0</td>\n",
       "      <td>0</td>\n",
       "      <td>A. 10866</td>\n",
       "      <td>13.04</td>\n",
       "      <td>NaN</td>\n",
       "      <td>S</td>\n",
       "    </tr>\n",
       "    <tr>\n",
       "      <th>4</th>\n",
       "      <td>4</td>\n",
       "      <td>1</td>\n",
       "      <td>3</td>\n",
       "      <td>Bond, Michael</td>\n",
       "      <td>male</td>\n",
       "      <td>25.00</td>\n",
       "      <td>0</td>\n",
       "      <td>0</td>\n",
       "      <td>427635</td>\n",
       "      <td>7.76</td>\n",
       "      <td>NaN</td>\n",
       "      <td>S</td>\n",
       "    </tr>\n",
       "  </tbody>\n",
       "</table>\n",
       "</div>"
      ],
      "text/plain": [
       "   PassengerId  Survived  Pclass              Name   Sex    Age  SibSp  Parch  \\\n",
       "0            0         1       1  Oconnor, Frankie  male    NaN      2      0   \n",
       "1            1         0       3       Bryan, Drew  male    NaN      0      0   \n",
       "2            2         0       3    Owens, Kenneth  male   0.33      1      2   \n",
       "3            3         0       3     Kramer, James  male  19.00      0      0   \n",
       "4            4         1       3     Bond, Michael  male  25.00      0      0   \n",
       "\n",
       "      Ticket   Fare   Cabin Embarked  \n",
       "0     209245  27.14  C12239        S  \n",
       "1      27323  13.35     NaN        S  \n",
       "2  CA 457703  71.29     NaN        S  \n",
       "3   A. 10866  13.04     NaN        S  \n",
       "4     427635   7.76     NaN        S  "
      ]
     },
     "execution_count": 3,
     "metadata": {},
     "output_type": "execute_result"
    }
   ],
   "source": [
    "train.head()"
   ]
  },
  {
   "cell_type": "code",
   "execution_count": 4,
   "id": "understood-highland",
   "metadata": {
    "execution": {
     "iopub.execute_input": "2021-04-15T18:09:18.087777Z",
     "iopub.status.busy": "2021-04-15T18:09:18.086911Z",
     "iopub.status.idle": "2021-04-15T18:09:18.150392Z",
     "shell.execute_reply": "2021-04-15T18:09:18.151082Z"
    },
    "papermill": {
     "duration": 0.084871,
     "end_time": "2021-04-15T18:09:18.151264",
     "exception": false,
     "start_time": "2021-04-15T18:09:18.066393",
     "status": "completed"
    },
    "tags": []
   },
   "outputs": [
    {
     "name": "stdout",
     "output_type": "stream",
     "text": [
      "<class 'pandas.core.frame.DataFrame'>\n",
      "RangeIndex: 100000 entries, 0 to 99999\n",
      "Data columns (total 12 columns):\n",
      " #   Column       Non-Null Count   Dtype  \n",
      "---  ------       --------------   -----  \n",
      " 0   PassengerId  100000 non-null  int64  \n",
      " 1   Survived     100000 non-null  int64  \n",
      " 2   Pclass       100000 non-null  int64  \n",
      " 3   Name         100000 non-null  object \n",
      " 4   Sex          100000 non-null  object \n",
      " 5   Age          96708 non-null   float64\n",
      " 6   SibSp        100000 non-null  int64  \n",
      " 7   Parch        100000 non-null  int64  \n",
      " 8   Ticket       95377 non-null   object \n",
      " 9   Fare         99866 non-null   float64\n",
      " 10  Cabin        32134 non-null   object \n",
      " 11  Embarked     99750 non-null   object \n",
      "dtypes: float64(2), int64(5), object(5)\n",
      "memory usage: 9.2+ MB\n"
     ]
    }
   ],
   "source": [
    "train.isnull()\n",
    "train.info()"
   ]
  },
  {
   "cell_type": "code",
   "execution_count": 5,
   "id": "geographic-password",
   "metadata": {
    "execution": {
     "iopub.execute_input": "2021-04-15T18:09:18.190771Z",
     "iopub.status.busy": "2021-04-15T18:09:18.190181Z",
     "iopub.status.idle": "2021-04-15T18:09:18.200410Z",
     "shell.execute_reply": "2021-04-15T18:09:18.200892Z"
    },
    "papermill": {
     "duration": 0.0306,
     "end_time": "2021-04-15T18:09:18.201072",
     "exception": false,
     "start_time": "2021-04-15T18:09:18.170472",
     "status": "completed"
    },
    "tags": []
   },
   "outputs": [],
   "source": [
    "#Eliminando a coluna Cabin\n",
    "del train['Cabin']"
   ]
  },
  {
   "cell_type": "code",
   "execution_count": 6,
   "id": "closed-customer",
   "metadata": {
    "execution": {
     "iopub.execute_input": "2021-04-15T18:09:18.239609Z",
     "iopub.status.busy": "2021-04-15T18:09:18.239063Z",
     "iopub.status.idle": "2021-04-15T18:09:18.255124Z",
     "shell.execute_reply": "2021-04-15T18:09:18.254512Z"
    },
    "papermill": {
     "duration": 0.035668,
     "end_time": "2021-04-15T18:09:18.255263",
     "exception": false,
     "start_time": "2021-04-15T18:09:18.219595",
     "status": "completed"
    },
    "tags": []
   },
   "outputs": [
    {
     "data": {
      "text/html": [
       "<div>\n",
       "<style scoped>\n",
       "    .dataframe tbody tr th:only-of-type {\n",
       "        vertical-align: middle;\n",
       "    }\n",
       "\n",
       "    .dataframe tbody tr th {\n",
       "        vertical-align: top;\n",
       "    }\n",
       "\n",
       "    .dataframe thead th {\n",
       "        text-align: right;\n",
       "    }\n",
       "</style>\n",
       "<table border=\"1\" class=\"dataframe\">\n",
       "  <thead>\n",
       "    <tr style=\"text-align: right;\">\n",
       "      <th></th>\n",
       "      <th>PassengerId</th>\n",
       "      <th>Survived</th>\n",
       "      <th>Pclass</th>\n",
       "      <th>Name</th>\n",
       "      <th>Sex</th>\n",
       "      <th>Age</th>\n",
       "      <th>SibSp</th>\n",
       "      <th>Parch</th>\n",
       "      <th>Ticket</th>\n",
       "      <th>Fare</th>\n",
       "      <th>Embarked</th>\n",
       "    </tr>\n",
       "  </thead>\n",
       "  <tbody>\n",
       "    <tr>\n",
       "      <th>0</th>\n",
       "      <td>0</td>\n",
       "      <td>1</td>\n",
       "      <td>1</td>\n",
       "      <td>Oconnor, Frankie</td>\n",
       "      <td>male</td>\n",
       "      <td>NaN</td>\n",
       "      <td>2</td>\n",
       "      <td>0</td>\n",
       "      <td>209245</td>\n",
       "      <td>27.14</td>\n",
       "      <td>S</td>\n",
       "    </tr>\n",
       "    <tr>\n",
       "      <th>1</th>\n",
       "      <td>1</td>\n",
       "      <td>0</td>\n",
       "      <td>3</td>\n",
       "      <td>Bryan, Drew</td>\n",
       "      <td>male</td>\n",
       "      <td>NaN</td>\n",
       "      <td>0</td>\n",
       "      <td>0</td>\n",
       "      <td>27323</td>\n",
       "      <td>13.35</td>\n",
       "      <td>S</td>\n",
       "    </tr>\n",
       "    <tr>\n",
       "      <th>2</th>\n",
       "      <td>2</td>\n",
       "      <td>0</td>\n",
       "      <td>3</td>\n",
       "      <td>Owens, Kenneth</td>\n",
       "      <td>male</td>\n",
       "      <td>0.33</td>\n",
       "      <td>1</td>\n",
       "      <td>2</td>\n",
       "      <td>CA 457703</td>\n",
       "      <td>71.29</td>\n",
       "      <td>S</td>\n",
       "    </tr>\n",
       "    <tr>\n",
       "      <th>3</th>\n",
       "      <td>3</td>\n",
       "      <td>0</td>\n",
       "      <td>3</td>\n",
       "      <td>Kramer, James</td>\n",
       "      <td>male</td>\n",
       "      <td>19.00</td>\n",
       "      <td>0</td>\n",
       "      <td>0</td>\n",
       "      <td>A. 10866</td>\n",
       "      <td>13.04</td>\n",
       "      <td>S</td>\n",
       "    </tr>\n",
       "    <tr>\n",
       "      <th>4</th>\n",
       "      <td>4</td>\n",
       "      <td>1</td>\n",
       "      <td>3</td>\n",
       "      <td>Bond, Michael</td>\n",
       "      <td>male</td>\n",
       "      <td>25.00</td>\n",
       "      <td>0</td>\n",
       "      <td>0</td>\n",
       "      <td>427635</td>\n",
       "      <td>7.76</td>\n",
       "      <td>S</td>\n",
       "    </tr>\n",
       "  </tbody>\n",
       "</table>\n",
       "</div>"
      ],
      "text/plain": [
       "   PassengerId  Survived  Pclass              Name   Sex    Age  SibSp  Parch  \\\n",
       "0            0         1       1  Oconnor, Frankie  male    NaN      2      0   \n",
       "1            1         0       3       Bryan, Drew  male    NaN      0      0   \n",
       "2            2         0       3    Owens, Kenneth  male   0.33      1      2   \n",
       "3            3         0       3     Kramer, James  male  19.00      0      0   \n",
       "4            4         1       3     Bond, Michael  male  25.00      0      0   \n",
       "\n",
       "      Ticket   Fare Embarked  \n",
       "0     209245  27.14        S  \n",
       "1      27323  13.35        S  \n",
       "2  CA 457703  71.29        S  \n",
       "3   A. 10866  13.04        S  \n",
       "4     427635   7.76        S  "
      ]
     },
     "execution_count": 6,
     "metadata": {},
     "output_type": "execute_result"
    }
   ],
   "source": [
    "train.head()"
   ]
  },
  {
   "cell_type": "code",
   "execution_count": 7,
   "id": "maritime-sender",
   "metadata": {
    "execution": {
     "iopub.execute_input": "2021-04-15T18:09:18.295655Z",
     "iopub.status.busy": "2021-04-15T18:09:18.295055Z",
     "iopub.status.idle": "2021-04-15T18:09:19.671261Z",
     "shell.execute_reply": "2021-04-15T18:09:19.670725Z"
    },
    "papermill": {
     "duration": 1.398285,
     "end_time": "2021-04-15T18:09:19.671393",
     "exception": false,
     "start_time": "2021-04-15T18:09:18.273108",
     "status": "completed"
    },
    "tags": []
   },
   "outputs": [],
   "source": [
    "#Importante: RandomForest trabalha apenas com numeros.\n",
    "from sklearn.ensemble import RandomForestClassifier\n",
    "modelo = RandomForestClassifier(n_estimators=100, n_jobs=-1, random_state=0)"
   ]
  },
  {
   "cell_type": "code",
   "execution_count": 8,
   "id": "cosmetic-tribune",
   "metadata": {
    "execution": {
     "iopub.execute_input": "2021-04-15T18:09:19.711076Z",
     "iopub.status.busy": "2021-04-15T18:09:19.710278Z",
     "iopub.status.idle": "2021-04-15T18:09:19.712878Z",
     "shell.execute_reply": "2021-04-15T18:09:19.712335Z"
    },
    "papermill": {
     "duration": 0.023946,
     "end_time": "2021-04-15T18:09:19.713010",
     "exception": false,
     "start_time": "2021-04-15T18:09:19.689064",
     "status": "completed"
    },
    "tags": []
   },
   "outputs": [],
   "source": [
    "# Male = 0 ; Female = 1,\n",
    "variables = ['Sex_bin', 'Age']"
   ]
  },
  {
   "cell_type": "code",
   "execution_count": 9,
   "id": "hawaiian-comparative",
   "metadata": {
    "execution": {
     "iopub.execute_input": "2021-04-15T18:09:19.755738Z",
     "iopub.status.busy": "2021-04-15T18:09:19.755171Z",
     "iopub.status.idle": "2021-04-15T18:09:19.814107Z",
     "shell.execute_reply": "2021-04-15T18:09:19.814770Z"
    },
    "papermill": {
     "duration": 0.0839,
     "end_time": "2021-04-15T18:09:19.815027",
     "exception": false,
     "start_time": "2021-04-15T18:09:19.731127",
     "status": "completed"
    },
    "tags": []
   },
   "outputs": [
    {
     "data": {
      "text/html": [
       "<div>\n",
       "<style scoped>\n",
       "    .dataframe tbody tr th:only-of-type {\n",
       "        vertical-align: middle;\n",
       "    }\n",
       "\n",
       "    .dataframe tbody tr th {\n",
       "        vertical-align: top;\n",
       "    }\n",
       "\n",
       "    .dataframe thead th {\n",
       "        text-align: right;\n",
       "    }\n",
       "</style>\n",
       "<table border=\"1\" class=\"dataframe\">\n",
       "  <thead>\n",
       "    <tr style=\"text-align: right;\">\n",
       "      <th></th>\n",
       "      <th>PassengerId</th>\n",
       "      <th>Survived</th>\n",
       "      <th>Pclass</th>\n",
       "      <th>Name</th>\n",
       "      <th>Sex</th>\n",
       "      <th>Age</th>\n",
       "      <th>SibSp</th>\n",
       "      <th>Parch</th>\n",
       "      <th>Ticket</th>\n",
       "      <th>Fare</th>\n",
       "      <th>Embarked</th>\n",
       "      <th>Sex_bin</th>\n",
       "    </tr>\n",
       "  </thead>\n",
       "  <tbody>\n",
       "    <tr>\n",
       "      <th>0</th>\n",
       "      <td>0</td>\n",
       "      <td>1</td>\n",
       "      <td>1</td>\n",
       "      <td>Oconnor, Frankie</td>\n",
       "      <td>male</td>\n",
       "      <td>NaN</td>\n",
       "      <td>2</td>\n",
       "      <td>0</td>\n",
       "      <td>209245</td>\n",
       "      <td>27.14</td>\n",
       "      <td>S</td>\n",
       "      <td>0</td>\n",
       "    </tr>\n",
       "    <tr>\n",
       "      <th>1</th>\n",
       "      <td>1</td>\n",
       "      <td>0</td>\n",
       "      <td>3</td>\n",
       "      <td>Bryan, Drew</td>\n",
       "      <td>male</td>\n",
       "      <td>NaN</td>\n",
       "      <td>0</td>\n",
       "      <td>0</td>\n",
       "      <td>27323</td>\n",
       "      <td>13.35</td>\n",
       "      <td>S</td>\n",
       "      <td>0</td>\n",
       "    </tr>\n",
       "    <tr>\n",
       "      <th>2</th>\n",
       "      <td>2</td>\n",
       "      <td>0</td>\n",
       "      <td>3</td>\n",
       "      <td>Owens, Kenneth</td>\n",
       "      <td>male</td>\n",
       "      <td>0.33</td>\n",
       "      <td>1</td>\n",
       "      <td>2</td>\n",
       "      <td>CA 457703</td>\n",
       "      <td>71.29</td>\n",
       "      <td>S</td>\n",
       "      <td>0</td>\n",
       "    </tr>\n",
       "    <tr>\n",
       "      <th>3</th>\n",
       "      <td>3</td>\n",
       "      <td>0</td>\n",
       "      <td>3</td>\n",
       "      <td>Kramer, James</td>\n",
       "      <td>male</td>\n",
       "      <td>19.00</td>\n",
       "      <td>0</td>\n",
       "      <td>0</td>\n",
       "      <td>A. 10866</td>\n",
       "      <td>13.04</td>\n",
       "      <td>S</td>\n",
       "      <td>0</td>\n",
       "    </tr>\n",
       "    <tr>\n",
       "      <th>4</th>\n",
       "      <td>4</td>\n",
       "      <td>1</td>\n",
       "      <td>3</td>\n",
       "      <td>Bond, Michael</td>\n",
       "      <td>male</td>\n",
       "      <td>25.00</td>\n",
       "      <td>0</td>\n",
       "      <td>0</td>\n",
       "      <td>427635</td>\n",
       "      <td>7.76</td>\n",
       "      <td>S</td>\n",
       "      <td>0</td>\n",
       "    </tr>\n",
       "    <tr>\n",
       "      <th>5</th>\n",
       "      <td>5</td>\n",
       "      <td>0</td>\n",
       "      <td>2</td>\n",
       "      <td>Sassano, Jonathan</td>\n",
       "      <td>male</td>\n",
       "      <td>35.00</td>\n",
       "      <td>0</td>\n",
       "      <td>0</td>\n",
       "      <td>13363</td>\n",
       "      <td>6.71</td>\n",
       "      <td>S</td>\n",
       "      <td>0</td>\n",
       "    </tr>\n",
       "    <tr>\n",
       "      <th>6</th>\n",
       "      <td>6</td>\n",
       "      <td>0</td>\n",
       "      <td>3</td>\n",
       "      <td>Conway, Jose</td>\n",
       "      <td>male</td>\n",
       "      <td>7.00</td>\n",
       "      <td>0</td>\n",
       "      <td>0</td>\n",
       "      <td>A/5</td>\n",
       "      <td>9.77</td>\n",
       "      <td>S</td>\n",
       "      <td>0</td>\n",
       "    </tr>\n",
       "    <tr>\n",
       "      <th>7</th>\n",
       "      <td>7</td>\n",
       "      <td>1</td>\n",
       "      <td>3</td>\n",
       "      <td>Werner, Linda</td>\n",
       "      <td>female</td>\n",
       "      <td>6.00</td>\n",
       "      <td>1</td>\n",
       "      <td>2</td>\n",
       "      <td>434426</td>\n",
       "      <td>31.50</td>\n",
       "      <td>S</td>\n",
       "      <td>1</td>\n",
       "    </tr>\n",
       "    <tr>\n",
       "      <th>8</th>\n",
       "      <td>8</td>\n",
       "      <td>0</td>\n",
       "      <td>1</td>\n",
       "      <td>Wardlaw, Michael</td>\n",
       "      <td>male</td>\n",
       "      <td>27.00</td>\n",
       "      <td>2</td>\n",
       "      <td>1</td>\n",
       "      <td>474849</td>\n",
       "      <td>73.02</td>\n",
       "      <td>S</td>\n",
       "      <td>0</td>\n",
       "    </tr>\n",
       "    <tr>\n",
       "      <th>9</th>\n",
       "      <td>9</td>\n",
       "      <td>0</td>\n",
       "      <td>2</td>\n",
       "      <td>Greigo, Rudy</td>\n",
       "      <td>male</td>\n",
       "      <td>66.00</td>\n",
       "      <td>0</td>\n",
       "      <td>0</td>\n",
       "      <td>6981</td>\n",
       "      <td>9.14</td>\n",
       "      <td>C</td>\n",
       "      <td>0</td>\n",
       "    </tr>\n",
       "    <tr>\n",
       "      <th>10</th>\n",
       "      <td>10</td>\n",
       "      <td>0</td>\n",
       "      <td>3</td>\n",
       "      <td>Nichols, William</td>\n",
       "      <td>male</td>\n",
       "      <td>31.00</td>\n",
       "      <td>0</td>\n",
       "      <td>0</td>\n",
       "      <td>459690</td>\n",
       "      <td>8.06</td>\n",
       "      <td>S</td>\n",
       "      <td>0</td>\n",
       "    </tr>\n",
       "    <tr>\n",
       "      <th>11</th>\n",
       "      <td>11</td>\n",
       "      <td>0</td>\n",
       "      <td>1</td>\n",
       "      <td>Telschow, Robert</td>\n",
       "      <td>male</td>\n",
       "      <td>60.00</td>\n",
       "      <td>0</td>\n",
       "      <td>0</td>\n",
       "      <td>19600</td>\n",
       "      <td>31.50</td>\n",
       "      <td>S</td>\n",
       "      <td>0</td>\n",
       "    </tr>\n",
       "    <tr>\n",
       "      <th>12</th>\n",
       "      <td>12</td>\n",
       "      <td>0</td>\n",
       "      <td>3</td>\n",
       "      <td>Stewart, Pat</td>\n",
       "      <td>male</td>\n",
       "      <td>36.00</td>\n",
       "      <td>0</td>\n",
       "      <td>0</td>\n",
       "      <td>434108</td>\n",
       "      <td>9.34</td>\n",
       "      <td>S</td>\n",
       "      <td>0</td>\n",
       "    </tr>\n",
       "    <tr>\n",
       "      <th>13</th>\n",
       "      <td>13</td>\n",
       "      <td>1</td>\n",
       "      <td>2</td>\n",
       "      <td>Raef, Phillip</td>\n",
       "      <td>male</td>\n",
       "      <td>50.00</td>\n",
       "      <td>0</td>\n",
       "      <td>0</td>\n",
       "      <td>3790453</td>\n",
       "      <td>7.88</td>\n",
       "      <td>Q</td>\n",
       "      <td>0</td>\n",
       "    </tr>\n",
       "    <tr>\n",
       "      <th>14</th>\n",
       "      <td>14</td>\n",
       "      <td>1</td>\n",
       "      <td>1</td>\n",
       "      <td>Seaton, Karen</td>\n",
       "      <td>female</td>\n",
       "      <td>44.00</td>\n",
       "      <td>0</td>\n",
       "      <td>1</td>\n",
       "      <td>12425</td>\n",
       "      <td>28.40</td>\n",
       "      <td>C</td>\n",
       "      <td>1</td>\n",
       "    </tr>\n",
       "    <tr>\n",
       "      <th>15</th>\n",
       "      <td>15</td>\n",
       "      <td>1</td>\n",
       "      <td>3</td>\n",
       "      <td>Estrada, Nancy</td>\n",
       "      <td>female</td>\n",
       "      <td>57.00</td>\n",
       "      <td>0</td>\n",
       "      <td>0</td>\n",
       "      <td>A/S 53862</td>\n",
       "      <td>9.31</td>\n",
       "      <td>S</td>\n",
       "      <td>1</td>\n",
       "    </tr>\n",
       "    <tr>\n",
       "      <th>16</th>\n",
       "      <td>16</td>\n",
       "      <td>0</td>\n",
       "      <td>3</td>\n",
       "      <td>Feller, Jimmie</td>\n",
       "      <td>male</td>\n",
       "      <td>53.00</td>\n",
       "      <td>0</td>\n",
       "      <td>0</td>\n",
       "      <td>NaN</td>\n",
       "      <td>7.92</td>\n",
       "      <td>S</td>\n",
       "      <td>0</td>\n",
       "    </tr>\n",
       "    <tr>\n",
       "      <th>17</th>\n",
       "      <td>17</td>\n",
       "      <td>0</td>\n",
       "      <td>1</td>\n",
       "      <td>Geiger, Maria</td>\n",
       "      <td>male</td>\n",
       "      <td>43.00</td>\n",
       "      <td>0</td>\n",
       "      <td>0</td>\n",
       "      <td>487299</td>\n",
       "      <td>29.84</td>\n",
       "      <td>S</td>\n",
       "      <td>0</td>\n",
       "    </tr>\n",
       "    <tr>\n",
       "      <th>18</th>\n",
       "      <td>18</td>\n",
       "      <td>0</td>\n",
       "      <td>2</td>\n",
       "      <td>Barren, Albert</td>\n",
       "      <td>male</td>\n",
       "      <td>25.00</td>\n",
       "      <td>0</td>\n",
       "      <td>0</td>\n",
       "      <td>24142</td>\n",
       "      <td>8.85</td>\n",
       "      <td>S</td>\n",
       "      <td>0</td>\n",
       "    </tr>\n",
       "    <tr>\n",
       "      <th>19</th>\n",
       "      <td>19</td>\n",
       "      <td>1</td>\n",
       "      <td>1</td>\n",
       "      <td>Hall, Stephanie</td>\n",
       "      <td>female</td>\n",
       "      <td>61.00</td>\n",
       "      <td>0</td>\n",
       "      <td>4</td>\n",
       "      <td>PC 174821</td>\n",
       "      <td>205.01</td>\n",
       "      <td>Q</td>\n",
       "      <td>1</td>\n",
       "    </tr>\n",
       "  </tbody>\n",
       "</table>\n",
       "</div>"
      ],
      "text/plain": [
       "    PassengerId  Survived  Pclass               Name     Sex    Age  SibSp  \\\n",
       "0             0         1       1   Oconnor, Frankie    male    NaN      2   \n",
       "1             1         0       3        Bryan, Drew    male    NaN      0   \n",
       "2             2         0       3     Owens, Kenneth    male   0.33      1   \n",
       "3             3         0       3      Kramer, James    male  19.00      0   \n",
       "4             4         1       3      Bond, Michael    male  25.00      0   \n",
       "5             5         0       2  Sassano, Jonathan    male  35.00      0   \n",
       "6             6         0       3       Conway, Jose    male   7.00      0   \n",
       "7             7         1       3      Werner, Linda  female   6.00      1   \n",
       "8             8         0       1   Wardlaw, Michael    male  27.00      2   \n",
       "9             9         0       2       Greigo, Rudy    male  66.00      0   \n",
       "10           10         0       3   Nichols, William    male  31.00      0   \n",
       "11           11         0       1   Telschow, Robert    male  60.00      0   \n",
       "12           12         0       3       Stewart, Pat    male  36.00      0   \n",
       "13           13         1       2      Raef, Phillip    male  50.00      0   \n",
       "14           14         1       1      Seaton, Karen  female  44.00      0   \n",
       "15           15         1       3     Estrada, Nancy  female  57.00      0   \n",
       "16           16         0       3     Feller, Jimmie    male  53.00      0   \n",
       "17           17         0       1      Geiger, Maria    male  43.00      0   \n",
       "18           18         0       2     Barren, Albert    male  25.00      0   \n",
       "19           19         1       1    Hall, Stephanie  female  61.00      0   \n",
       "\n",
       "    Parch     Ticket    Fare Embarked  Sex_bin  \n",
       "0       0     209245   27.14        S        0  \n",
       "1       0      27323   13.35        S        0  \n",
       "2       2  CA 457703   71.29        S        0  \n",
       "3       0   A. 10866   13.04        S        0  \n",
       "4       0     427635    7.76        S        0  \n",
       "5       0      13363    6.71        S        0  \n",
       "6       0       A/5     9.77        S        0  \n",
       "7       2     434426   31.50        S        1  \n",
       "8       1     474849   73.02        S        0  \n",
       "9       0       6981    9.14        C        0  \n",
       "10      0     459690    8.06        S        0  \n",
       "11      0      19600   31.50        S        0  \n",
       "12      0     434108    9.34        S        0  \n",
       "13      0    3790453    7.88        Q        0  \n",
       "14      1      12425   28.40        C        1  \n",
       "15      0  A/S 53862    9.31        S        1  \n",
       "16      0        NaN    7.92        S        0  \n",
       "17      0     487299   29.84        S        0  \n",
       "18      0      24142    8.85        S        0  \n",
       "19      4  PC 174821  205.01        Q        1  "
      ]
     },
     "execution_count": 9,
     "metadata": {},
     "output_type": "execute_result"
    }
   ],
   "source": [
    "def change_sex(value):\n",
    "    if value == 'female':\n",
    "        return 1\n",
    "    else:\n",
    "        return 0\n",
    "    \n",
    "train['Sex_bin'] = train['Sex'].map(change_sex)\n",
    "train.head(20)"
   ]
  },
  {
   "cell_type": "code",
   "execution_count": 10,
   "id": "driven-realtor",
   "metadata": {
    "execution": {
     "iopub.execute_input": "2021-04-15T18:09:19.863907Z",
     "iopub.status.busy": "2021-04-15T18:09:19.863333Z",
     "iopub.status.idle": "2021-04-15T18:09:19.866705Z",
     "shell.execute_reply": "2021-04-15T18:09:19.866151Z"
    },
    "papermill": {
     "duration": 0.028414,
     "end_time": "2021-04-15T18:09:19.866835",
     "exception": false,
     "start_time": "2021-04-15T18:09:19.838421",
     "status": "completed"
    },
    "tags": []
   },
   "outputs": [],
   "source": [
    "variaveis = ['Sex_bin', 'Age']"
   ]
  },
  {
   "cell_type": "code",
   "execution_count": 11,
   "id": "skilled-politics",
   "metadata": {
    "execution": {
     "iopub.execute_input": "2021-04-15T18:09:19.911766Z",
     "iopub.status.busy": "2021-04-15T18:09:19.911188Z",
     "iopub.status.idle": "2021-04-15T18:09:19.918886Z",
     "shell.execute_reply": "2021-04-15T18:09:19.918378Z"
    },
    "papermill": {
     "duration": 0.033274,
     "end_time": "2021-04-15T18:09:19.919020",
     "exception": false,
     "start_time": "2021-04-15T18:09:19.885746",
     "status": "completed"
    },
    "tags": []
   },
   "outputs": [],
   "source": [
    "X = train[variaveis]\n",
    "y = train['Survived']"
   ]
  },
  {
   "cell_type": "code",
   "execution_count": 12,
   "id": "cardiac-franklin",
   "metadata": {
    "execution": {
     "iopub.execute_input": "2021-04-15T18:09:19.962733Z",
     "iopub.status.busy": "2021-04-15T18:09:19.961759Z",
     "iopub.status.idle": "2021-04-15T18:09:21.527758Z",
     "shell.execute_reply": "2021-04-15T18:09:21.528451Z"
    },
    "papermill": {
     "duration": 1.590704,
     "end_time": "2021-04-15T18:09:21.528639",
     "exception": false,
     "start_time": "2021-04-15T18:09:19.937935",
     "status": "completed"
    },
    "tags": []
   },
   "outputs": [
    {
     "data": {
      "text/plain": [
       "RandomForestClassifier(n_jobs=-1, random_state=0)"
      ]
     },
     "execution_count": 12,
     "metadata": {},
     "output_type": "execute_result"
    }
   ],
   "source": [
    "#Completando NaN com -1, pois Sex_bin e Age não possui -1\n",
    "X = X.fillna(-1)\n",
    "modelo.fit(X,y)"
   ]
  },
  {
   "cell_type": "code",
   "execution_count": 13,
   "id": "fitted-announcement",
   "metadata": {
    "execution": {
     "iopub.execute_input": "2021-04-15T18:09:21.569928Z",
     "iopub.status.busy": "2021-04-15T18:09:21.569312Z",
     "iopub.status.idle": "2021-04-15T18:09:21.618756Z",
     "shell.execute_reply": "2021-04-15T18:09:21.619199Z"
    },
    "papermill": {
     "duration": 0.071673,
     "end_time": "2021-04-15T18:09:21.619374",
     "exception": false,
     "start_time": "2021-04-15T18:09:21.547701",
     "status": "completed"
    },
    "tags": []
   },
   "outputs": [
    {
     "data": {
      "text/html": [
       "<div>\n",
       "<style scoped>\n",
       "    .dataframe tbody tr th:only-of-type {\n",
       "        vertical-align: middle;\n",
       "    }\n",
       "\n",
       "    .dataframe tbody tr th {\n",
       "        vertical-align: top;\n",
       "    }\n",
       "\n",
       "    .dataframe thead th {\n",
       "        text-align: right;\n",
       "    }\n",
       "</style>\n",
       "<table border=\"1\" class=\"dataframe\">\n",
       "  <thead>\n",
       "    <tr style=\"text-align: right;\">\n",
       "      <th></th>\n",
       "      <th>Sex_bin</th>\n",
       "      <th>Age</th>\n",
       "    </tr>\n",
       "  </thead>\n",
       "  <tbody>\n",
       "    <tr>\n",
       "      <th>0</th>\n",
       "      <td>0</td>\n",
       "      <td>19.0</td>\n",
       "    </tr>\n",
       "    <tr>\n",
       "      <th>1</th>\n",
       "      <td>1</td>\n",
       "      <td>53.0</td>\n",
       "    </tr>\n",
       "    <tr>\n",
       "      <th>2</th>\n",
       "      <td>1</td>\n",
       "      <td>19.0</td>\n",
       "    </tr>\n",
       "    <tr>\n",
       "      <th>3</th>\n",
       "      <td>0</td>\n",
       "      <td>25.0</td>\n",
       "    </tr>\n",
       "    <tr>\n",
       "      <th>4</th>\n",
       "      <td>1</td>\n",
       "      <td>17.0</td>\n",
       "    </tr>\n",
       "  </tbody>\n",
       "</table>\n",
       "</div>"
      ],
      "text/plain": [
       "   Sex_bin   Age\n",
       "0        0  19.0\n",
       "1        1  53.0\n",
       "2        1  19.0\n",
       "3        0  25.0\n",
       "4        1  17.0"
      ]
     },
     "execution_count": 13,
     "metadata": {},
     "output_type": "execute_result"
    }
   ],
   "source": [
    "test['Sex_bin'] = test['Sex'].map(change_sex)#transformando sex para sex_bin\n",
    "X_prev = test[variaveis]\n",
    "X_prev = X_prev.fillna(-1)\n",
    "X_prev.head()"
   ]
  },
  {
   "cell_type": "code",
   "execution_count": 14,
   "id": "ongoing-madonna",
   "metadata": {
    "execution": {
     "iopub.execute_input": "2021-04-15T18:09:21.662003Z",
     "iopub.status.busy": "2021-04-15T18:09:21.661358Z",
     "iopub.status.idle": "2021-04-15T18:09:22.175983Z",
     "shell.execute_reply": "2021-04-15T18:09:22.175420Z"
    },
    "papermill": {
     "duration": 0.536948,
     "end_time": "2021-04-15T18:09:22.176128",
     "exception": false,
     "start_time": "2021-04-15T18:09:21.639180",
     "status": "completed"
    },
    "tags": []
   },
   "outputs": [
    {
     "data": {
      "text/plain": [
       "array([0, 1, 1, ..., 0, 1, 1])"
      ]
     },
     "execution_count": 14,
     "metadata": {},
     "output_type": "execute_result"
    }
   ],
   "source": [
    "p = modelo.predict(X_prev)\n",
    "p"
   ]
  },
  {
   "cell_type": "code",
   "execution_count": 15,
   "id": "closing-eleven",
   "metadata": {
    "execution": {
     "iopub.execute_input": "2021-04-15T18:09:22.222515Z",
     "iopub.status.busy": "2021-04-15T18:09:22.221748Z",
     "iopub.status.idle": "2021-04-15T18:09:22.225668Z",
     "shell.execute_reply": "2021-04-15T18:09:22.226093Z"
    },
    "papermill": {
     "duration": 0.030145,
     "end_time": "2021-04-15T18:09:22.226258",
     "exception": false,
     "start_time": "2021-04-15T18:09:22.196113",
     "status": "completed"
    },
    "tags": []
   },
   "outputs": [
    {
     "data": {
      "text/plain": [
       "(100000,)"
      ]
     },
     "execution_count": 15,
     "metadata": {},
     "output_type": "execute_result"
    }
   ],
   "source": [
    "#Criar estruturas de dados com valores = p\n",
    "sub = pd.Series(p, index=test['PassengerId'], name='Survived')\n",
    "sub.shape"
   ]
  },
  {
   "cell_type": "code",
   "execution_count": 16,
   "id": "interim-parker",
   "metadata": {
    "execution": {
     "iopub.execute_input": "2021-04-15T18:09:22.272802Z",
     "iopub.status.busy": "2021-04-15T18:09:22.272125Z",
     "iopub.status.idle": "2021-04-15T18:09:22.408798Z",
     "shell.execute_reply": "2021-04-15T18:09:22.408157Z"
    },
    "papermill": {
     "duration": 0.162434,
     "end_time": "2021-04-15T18:09:22.408987",
     "exception": false,
     "start_time": "2021-04-15T18:09:22.246553",
     "status": "completed"
    },
    "tags": []
   },
   "outputs": [],
   "source": [
    "sub.to_csv(\"First_model.csv\", header=True)"
   ]
  },
  {
   "cell_type": "code",
   "execution_count": 17,
   "id": "fresh-purchase",
   "metadata": {
    "execution": {
     "iopub.execute_input": "2021-04-15T18:09:22.471981Z",
     "iopub.status.busy": "2021-04-15T18:09:22.454660Z",
     "iopub.status.idle": "2021-04-15T18:09:23.243117Z",
     "shell.execute_reply": "2021-04-15T18:09:23.243571Z"
    },
    "papermill": {
     "duration": 0.813767,
     "end_time": "2021-04-15T18:09:23.243760",
     "exception": false,
     "start_time": "2021-04-15T18:09:22.429993",
     "status": "completed"
    },
    "tags": []
   },
   "outputs": [
    {
     "name": "stdout",
     "output_type": "stream",
     "text": [
      "PassengerId,Survived\r\n",
      "100000,0\r\n",
      "100001,1\r\n",
      "100002,1\r\n",
      "100003,0\r\n",
      "100004,1\r\n",
      "100005,0\r\n",
      "100006,1\r\n",
      "100007,0\r\n",
      "100008,1\r\n"
     ]
    }
   ],
   "source": [
    "!head -n10 First_model.csv"
   ]
  },
  {
   "cell_type": "code",
   "execution_count": null,
   "id": "informational-investigation",
   "metadata": {
    "papermill": {
     "duration": 0.02152,
     "end_time": "2021-04-15T18:09:23.286048",
     "exception": false,
     "start_time": "2021-04-15T18:09:23.264528",
     "status": "completed"
    },
    "tags": []
   },
   "outputs": [],
   "source": [
    "      "
   ]
  },
  {
   "cell_type": "code",
   "execution_count": null,
   "id": "later-spare",
   "metadata": {
    "papermill": {
     "duration": 0.020264,
     "end_time": "2021-04-15T18:09:23.327063",
     "exception": false,
     "start_time": "2021-04-15T18:09:23.306799",
     "status": "completed"
    },
    "tags": []
   },
   "outputs": [],
   "source": []
  },
  {
   "cell_type": "code",
   "execution_count": null,
   "id": "transparent-imagination",
   "metadata": {
    "papermill": {
     "duration": 0.020484,
     "end_time": "2021-04-15T18:09:23.368236",
     "exception": false,
     "start_time": "2021-04-15T18:09:23.347752",
     "status": "completed"
    },
    "tags": []
   },
   "outputs": [],
   "source": []
  },
  {
   "cell_type": "code",
   "execution_count": null,
   "id": "distinct-fifty",
   "metadata": {
    "papermill": {
     "duration": 0.019989,
     "end_time": "2021-04-15T18:09:23.408767",
     "exception": false,
     "start_time": "2021-04-15T18:09:23.388778",
     "status": "completed"
    },
    "tags": []
   },
   "outputs": [],
   "source": []
  },
  {
   "cell_type": "code",
   "execution_count": null,
   "id": "sexual-apache",
   "metadata": {
    "papermill": {
     "duration": 0.020263,
     "end_time": "2021-04-15T18:09:23.450775",
     "exception": false,
     "start_time": "2021-04-15T18:09:23.430512",
     "status": "completed"
    },
    "tags": []
   },
   "outputs": [],
   "source": []
  },
  {
   "cell_type": "code",
   "execution_count": null,
   "id": "reserved-dressing",
   "metadata": {
    "papermill": {
     "duration": 0.019997,
     "end_time": "2021-04-15T18:09:23.492403",
     "exception": false,
     "start_time": "2021-04-15T18:09:23.472406",
     "status": "completed"
    },
    "tags": []
   },
   "outputs": [],
   "source": []
  },
  {
   "cell_type": "code",
   "execution_count": null,
   "id": "asian-owner",
   "metadata": {
    "papermill": {
     "duration": 0.020144,
     "end_time": "2021-04-15T18:09:23.533198",
     "exception": false,
     "start_time": "2021-04-15T18:09:23.513054",
     "status": "completed"
    },
    "tags": []
   },
   "outputs": [],
   "source": []
  },
  {
   "cell_type": "code",
   "execution_count": null,
   "id": "composite-camcorder",
   "metadata": {
    "papermill": {
     "duration": 0.02022,
     "end_time": "2021-04-15T18:09:23.573967",
     "exception": false,
     "start_time": "2021-04-15T18:09:23.553747",
     "status": "completed"
    },
    "tags": []
   },
   "outputs": [],
   "source": []
  },
  {
   "cell_type": "code",
   "execution_count": null,
   "id": "sized-simon",
   "metadata": {
    "papermill": {
     "duration": 0.020147,
     "end_time": "2021-04-15T18:09:23.614599",
     "exception": false,
     "start_time": "2021-04-15T18:09:23.594452",
     "status": "completed"
    },
    "tags": []
   },
   "outputs": [],
   "source": []
  },
  {
   "cell_type": "code",
   "execution_count": null,
   "id": "egyptian-kenya",
   "metadata": {
    "papermill": {
     "duration": 0.024692,
     "end_time": "2021-04-15T18:09:23.660106",
     "exception": false,
     "start_time": "2021-04-15T18:09:23.635414",
     "status": "completed"
    },
    "tags": []
   },
   "outputs": [],
   "source": []
  },
  {
   "cell_type": "code",
   "execution_count": null,
   "id": "solved-difference",
   "metadata": {
    "papermill": {
     "duration": 0.019953,
     "end_time": "2021-04-15T18:09:23.700833",
     "exception": false,
     "start_time": "2021-04-15T18:09:23.680880",
     "status": "completed"
    },
    "tags": []
   },
   "outputs": [],
   "source": []
  },
  {
   "cell_type": "code",
   "execution_count": null,
   "id": "sporting-animal",
   "metadata": {
    "papermill": {
     "duration": 0.020162,
     "end_time": "2021-04-15T18:09:23.741558",
     "exception": false,
     "start_time": "2021-04-15T18:09:23.721396",
     "status": "completed"
    },
    "tags": []
   },
   "outputs": [],
   "source": []
  },
  {
   "cell_type": "code",
   "execution_count": null,
   "id": "considered-homework",
   "metadata": {
    "papermill": {
     "duration": 0.020176,
     "end_time": "2021-04-15T18:09:23.782263",
     "exception": false,
     "start_time": "2021-04-15T18:09:23.762087",
     "status": "completed"
    },
    "tags": []
   },
   "outputs": [],
   "source": []
  },
  {
   "cell_type": "code",
   "execution_count": null,
   "id": "cultural-progress",
   "metadata": {
    "papermill": {
     "duration": 0.021128,
     "end_time": "2021-04-15T18:09:23.823906",
     "exception": false,
     "start_time": "2021-04-15T18:09:23.802778",
     "status": "completed"
    },
    "tags": []
   },
   "outputs": [],
   "source": []
  }
 ],
 "metadata": {
  "kernelspec": {
   "display_name": "Python 3",
   "language": "python",
   "name": "python3"
  },
  "language_info": {
   "codemirror_mode": {
    "name": "ipython",
    "version": 3
   },
   "file_extension": ".py",
   "mimetype": "text/x-python",
   "name": "python",
   "nbconvert_exporter": "python",
   "pygments_lexer": "ipython3",
   "version": "3.7.9"
  },
  "papermill": {
   "default_parameters": {},
   "duration": 13.222661,
   "end_time": "2021-04-15T18:09:24.555538",
   "environment_variables": {},
   "exception": null,
   "input_path": "__notebook__.ipynb",
   "output_path": "__notebook__.ipynb",
   "parameters": {},
   "start_time": "2021-04-15T18:09:11.332877",
   "version": "2.3.2"
  }
 },
 "nbformat": 4,
 "nbformat_minor": 5
}
